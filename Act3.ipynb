{
 "cells": [
  {
   "cell_type": "code",
   "execution_count": 1,
   "id": "233221e2-d3fe-495e-a2fd-76b231cc2721",
   "metadata": {},
   "outputs": [
    {
     "data": {
      "text/plain": [
       "2"
      ]
     },
     "execution_count": 1,
     "metadata": {},
     "output_type": "execute_result"
    }
   ],
   "source": [
    "1+1"
   ]
  },
  {
   "cell_type": "code",
   "execution_count": 2,
   "id": "f34f1b09-ddee-459b-a2f9-6c012b031c86",
   "metadata": {},
   "outputs": [
    {
     "data": {
      "application/vnd.jupyter.widget-view+json": {
       "model_id": "31f96f801de64a51be57f724a96eb275",
       "version_major": 2,
       "version_minor": 0
      },
      "text/plain": [
       "Interactive function <function f at 0x7f45f7f04cb0> with 2 widgets\n",
       "  n: SelectionSlider(description='n', optio…"
      ]
     },
     "metadata": {},
     "output_type": "display_data"
    }
   ],
   "source": [
    "@interact\n",
    "def f(n=(1 .. 15), m=(1 .. 15)):\n",
    "    print(\"n * m = {} = {}\".format(n * m, factor(n * m)))\n",
    "    P = polygon([(0, 0), (0, n), (m, n), (m, 0)])\n",
    "    P.show(aspect_ratio=1, gridlines='minor', figsize=[3, 3], xmax=14, ymax=14)\n"
   ]
  },
  {
   "cell_type": "code",
   "execution_count": null,
   "id": "f336586f-2a23-4404-8e1f-068235a00967",
   "metadata": {},
   "outputs": [],
   "source": [
    "@interact\n",
    "def g(a=slider(-1, 1, 0.01, default = -0.62), b = slider(-1,1,0.01, default = 0.8)):\n",
    "    x = [ x*0.1 for x in range (100)]\n",
    "    g = sqrt(x^3 + a*x + b)\n",
    "    \n",
    "    show(g_plot)"
   ]
  },
  {
   "cell_type": "code",
   "execution_count": null,
   "id": "8eafb497-4679-4429-b520-c6fa465e5b9a",
   "metadata": {},
   "outputs": [],
   "source": []
  },
  {
   "cell_type": "code",
   "execution_count": null,
   "id": "3d3f12e5-4fe9-4c12-a7a7-5bbfec6e1146",
   "metadata": {},
   "outputs": [],
   "source": []
  }
 ],
 "metadata": {
  "kernelspec": {
   "display_name": "SageMath 9.4",
   "language": "sage",
   "name": "sagemath"
  },
  "language_info": {
   "codemirror_mode": {
    "name": "ipython",
    "version": 3
   },
   "file_extension": ".py",
   "mimetype": "text/x-python",
   "name": "python",
   "nbconvert_exporter": "python",
   "pygments_lexer": "ipython3",
   "version": "3.7.12"
  }
 },
 "nbformat": 4,
 "nbformat_minor": 5
}
